{
 "cells": [
  {
   "cell_type": "code",
   "execution_count": 18,
   "source": [
    "\"\"\" \n",
    "Todo\n",
    "1. UPL code\n",
    "2. SVD\n",
    "3. NDCG per UPL\n",
    "4. Readme\n",
    "\"\"\""
   ],
   "outputs": [
    {
     "output_type": "execute_result",
     "data": {
      "text/plain": [
       "' \\nTodo\\n1. UPL code\\n2. SVD\\n3. NDCG per UPL\\n4. Readme\\n'"
      ]
     },
     "metadata": {},
     "execution_count": 18
    }
   ],
   "metadata": {}
  },
  {
   "cell_type": "code",
   "execution_count": 37,
   "source": [
    "import os\n",
    "import itertools\n",
    "\n",
    "import pandas as pd\n",
    "import numpy as np\n",
    "\n",
    "from numpy.random import default_rng\n",
    "from scipy.sparse import csr_matrix\n",
    "from surprise import SVD\n",
    "from surprise import Dataset\n",
    "from surprise import Reader\n",
    "from surprise.model_selection import train_test_split"
   ],
   "outputs": [],
   "metadata": {}
  },
  {
   "cell_type": "code",
   "execution_count": 20,
   "source": [
    "def get_upl(item_group, upl_size, reference_column, rng):\n",
    "    \"\"\"\n",
    "        This function intends to generate user preference list (UPL) with a desired size.\n",
    "        For example, UPL with size 5 means every user must only have 5 rated items etc. Therefore, from the raw data, select 5 items that the users have rated\n",
    "        The selection are random. Pseudorandom is used to maintain consistency for every running\n",
    "\n",
    "        Parameters:\n",
    "            item_group          : grouped dataframe by user id (dataframe groupby)\n",
    "            upl_size            : desired upl size (integer)\n",
    "            reference_column    : item column name (string)\n",
    "            rng                 : random generator (numpy random generator)\n",
    "\n",
    "        Return\n",
    "            item_group          : grouped dataframe by user id (dataframe groupby)\n",
    "    \"\"\"\n",
    "\n",
    "    # create a column named 'upl' as flag container. 0 means the item is not selected as the upl item, while 1 is the opposite\n",
    "    item_group.loc[:, 'upl'] = 0\n",
    "\n",
    "    # get all item ids. Shuffle those ids and get top n of them as the selected items for upl. n is the desired upl size.\n",
    "    # Mark the items by 1 on upl column on the dataset\n",
    "    upl = item_group[reference_column].values\n",
    "    if len(upl) != 0:\n",
    "        rng.shuffle(upl)\n",
    "        item_group.loc[item_group[reference_column].isin(upl[:upl_size]), 'upl'] = 1\n",
    "        return item_group\n",
    "    else:\n",
    "        return item_group"
   ],
   "outputs": [],
   "metadata": {}
  },
  {
   "cell_type": "code",
   "execution_count": 21,
   "source": [
    "# get dataset directory\n",
    "dataset_dir = os.path.expanduser('Datasets/ml-100k/')"
   ],
   "outputs": [],
   "metadata": {}
  },
  {
   "cell_type": "code",
   "execution_count": 22,
   "source": [
    "# init the upl size\n",
    "upl_sizes = [10, 20, 30, 40, 50]"
   ],
   "outputs": [],
   "metadata": {}
  },
  {
   "cell_type": "code",
   "execution_count": 23,
   "source": [
    "# set random generator for pseudo random\n",
    "random_state = 123\n",
    "rng = default_rng(random_state)"
   ],
   "outputs": [],
   "metadata": {}
  },
  {
   "cell_type": "code",
   "execution_count": 24,
   "source": [
    "# reader object for dataset\n",
    "reader = Reader(rating_scale=(1, 5))"
   ],
   "outputs": [],
   "metadata": {}
  },
  {
   "cell_type": "code",
   "execution_count": 25,
   "source": [
    "# set testset size\n",
    "test_size = .2"
   ],
   "outputs": [],
   "metadata": {}
  },
  {
   "cell_type": "code",
   "execution_count": 26,
   "source": [
    "# load the rating dataset on pandas dataframe\n",
    "df_rating = pd.read_csv(dataset_dir + 'u.data', sep='|', names=['user id', 'item id', 'rating', 'timestamp'])\n",
    "df_rating = df_rating[['user id', 'item id', 'rating']]"
   ],
   "outputs": [],
   "metadata": {}
  },
  {
   "cell_type": "code",
   "execution_count": null,
   "source": [
    "# for each upl size, generate upl and do training testing to model\n",
    "for upl_id, upl_size in enumerate(upl_sizes):\n",
    "    # group the dataset on dataframe by user id\n",
    "    grouped = df_rating.groupby(\"user id\")\n",
    "\n",
    "    # call get_upl function to each group to generate upl for each group\n",
    "    df_generated_upl = grouped.apply(lambda x: get_upl(x, upl_size, 'item id', rng))\n",
    "\n",
    "    # select only rows where the upl flag is set to 1 as the selected upl items\n",
    "    df_generated_upl = df_generated_upl[df_generated_upl['upl'] == 1]\n",
    "\n",
    "    # convert the dataset to dataset object from surprise library\n",
    "    data = Dataset.load_from_df(df_generated_upl[['user id', 'item id', 'rating']], reader)\n",
    "\n",
    "    # split to training set and testing set\n",
    "    trainset, testset = train_test_split(data, test_size=test_size, random_state=random_state)\n",
    "\n",
    "    # convert testset to csr format\n",
    "    testset = np.array(list(map(list, testset))).astype(np.int32)\n",
    "\n",
    "    # get number of users and number of items in testset\n",
    "    num_user = max(testset[:, 0])\n",
    "    num_item = max(testset[:, 1])\n",
    "\n",
    "    # init the svd model\n",
    "    svd = SVD(random_state=random_state)\n",
    "\n",
    "    # train the model with the trainset\n",
    "    svd.fit(trainset)\n",
    "\n",
    "    # predict all unknown ratings\n",
    "    arr_predicted_ratings = np.empty([num_user * num_item, 3])\n",
    "    for user_id, item_id in itertools.product(range(num_user), range(num_item)):\n",
    "        arr_predicted_ratings[item_id + user_id * num_item, :] = [user_id, item_id, svd.predict(user_id + 1, item_id + 1)[3]]\n",
    "    csr_predicted_ratings = csr_matrix((arr_predicted_ratings[:,2], (arr_predicted_ratings[:,0], arr_predicted_ratings[:,1])), shape=(num_user, num_item))\n",
    "\n",
    "    \n",
    "\n",
    "\n",
    "\n",
    "\n"
   ],
   "outputs": [],
   "metadata": {}
  }
 ],
 "metadata": {
  "orig_nbformat": 4,
  "language_info": {
   "name": "python",
   "version": "3.8.2",
   "mimetype": "text/x-python",
   "codemirror_mode": {
    "name": "ipython",
    "version": 3
   },
   "pygments_lexer": "ipython3",
   "nbconvert_exporter": "python",
   "file_extension": ".py"
  },
  "kernelspec": {
   "name": "python3",
   "display_name": "Python 3.8.2 64-bit"
  },
  "interpreter": {
   "hash": "31f2aee4e71d21fbe5cf8b01ff0e069b9275f58929596ceb00d14d90e3e16cd6"
  }
 },
 "nbformat": 4,
 "nbformat_minor": 2
}